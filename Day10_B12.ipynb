{
 "cells": [
  {
   "cell_type": "code",
   "execution_count": null,
   "metadata": {},
   "outputs": [],
   "source": [
    "#Introduction to the for loops in dictionary\n",
    "looping throu all key value pairs\n"
   ]
  },
  {
   "cell_type": "code",
   "execution_count": null,
   "metadata": {},
   "outputs": [],
   "source": []
  },
  {
   "cell_type": "code",
   "execution_count": 1,
   "metadata": {},
   "outputs": [
    {
     "name": "stdout",
     "output_type": "stream",
     "text": [
      "{'username': 'john92', 'first_name': 'makr', 'last_name': 'john'}\n"
     ]
    }
   ],
   "source": [
    "user_0 = {\n",
    "    'username': 'john92',\n",
    "    'first_name': 'makr',\n",
    "    'last_name': 'john'\n",
    "}\n",
    "\n",
    "print(user_0)"
   ]
  },
  {
   "cell_type": "code",
   "execution_count": 6,
   "metadata": {},
   "outputs": [
    {
     "name": "stdout",
     "output_type": "stream",
     "text": [
      "\n",
      "key: username\n",
      "\n",
      "value:john92\n",
      "\n",
      "key: first_name\n",
      "\n",
      "value:makr\n",
      "\n",
      "key: last_name\n",
      "\n",
      "value:john\n"
     ]
    }
   ],
   "source": [
    "for key,value in user_0.items():\n",
    "    print(f\"\\nkey: {key}\")\n",
    "    print(f\"\\nvalue:{value}\")"
   ]
  },
  {
   "cell_type": "code",
   "execution_count": 8,
   "metadata": {},
   "outputs": [
    {
     "name": "stdout",
     "output_type": "stream",
     "text": [
      "\n",
      "abc: username\n",
      "\n",
      "xyz:john92\n",
      "\n",
      "abc: first_name\n",
      "\n",
      "xyz:makr\n",
      "\n",
      "abc: last_name\n",
      "\n",
      "xyz:john\n"
     ]
    }
   ],
   "source": [
    "for x,y in user_0.items():   #x,y has been used fro temp var\n",
    "    print(f\"\\nabc: {x}\")  # --key:----> predefinded y using f strings\n",
    "    print(f\"\\nxyz:{y}\")  #-----> value: -----> predefined by using f strings\n",
    "    "
   ]
  },
  {
   "cell_type": "code",
   "execution_count": 10,
   "metadata": {},
   "outputs": [
    {
     "name": "stdout",
     "output_type": "stream",
     "text": [
      "Username\n",
      "First_Name\n",
      "Last_Name\n"
     ]
    }
   ],
   "source": [
    "#3 Req is to get only the keys in the for loop\n",
    "\n",
    "for name in user_0.keys():\n",
    "    print(name.title())"
   ]
  },
  {
   "cell_type": "code",
   "execution_count": 12,
   "metadata": {},
   "outputs": [
    {
     "name": "stdout",
     "output_type": "stream",
     "text": [
      "John92\n",
      "Makr\n",
      "John\n"
     ]
    }
   ],
   "source": [
    "# Req is to get only the values form above dict:\n",
    "\n",
    "for test in user_0.values():\n",
    "    print(test.title())"
   ]
  },
  {
   "cell_type": "code",
   "execution_count": null,
   "metadata": {},
   "outputs": [],
   "source": []
  },
  {
   "cell_type": "code",
   "execution_count": null,
   "metadata": {},
   "outputs": [],
   "source": [
    "# Introduction to while loop\n",
    "\n",
    "Defination: As long as or till a certain cond is tru it will execute:"
   ]
  },
  {
   "cell_type": "code",
   "execution_count": 13,
   "metadata": {},
   "outputs": [
    {
     "name": "stdout",
     "output_type": "stream",
     "text": [
      "1\n",
      "2\n",
      "3\n",
      "4\n",
      "5\n"
     ]
    }
   ],
   "source": [
    "current_num = 1 #starting point  \n",
    "#iternations --->single exeution of the program\n",
    "\n",
    "while current_num <=5:\n",
    "    print(current_num)\n",
    "    current_num +=1    ## Current_num = current_num+1"
   ]
  },
  {
   "cell_type": "code",
   "execution_count": null,
   "metadata": {},
   "outputs": [],
   "source": [
    "string\n",
    "list\n",
    "tuple\n",
    "dictoinaries\n",
    "\n",
    "accepting the user input\n",
    "if conditoins\n",
    "for looping\n",
    "while loop\n",
    "\n",
    "build in available right away to use!!\n",
    "\n"
   ]
  },
  {
   "cell_type": "code",
   "execution_count": null,
   "metadata": {},
   "outputs": [],
   "source": [
    "#introduction to python functions!!\n",
    "\n",
    "# Code reusability \n",
    "\n",
    "#write once --- reaady many times------\n"
   ]
  },
  {
   "cell_type": "code",
   "execution_count": 14,
   "metadata": {},
   "outputs": [],
   "source": [
    "def great_user():\n",
    "    \"\"\"Display a simple greeting\"\"\"   #Doc --string -->commenting inside a function\n",
    "    print('Hello')\n"
   ]
  },
  {
   "cell_type": "code",
   "execution_count": 15,
   "metadata": {},
   "outputs": [
    {
     "name": "stdout",
     "output_type": "stream",
     "text": [
      "Hello\n"
     ]
    }
   ],
   "source": [
    "great_user()  # Function call\n"
   ]
  },
  {
   "cell_type": "code",
   "execution_count": 16,
   "metadata": {},
   "outputs": [
    {
     "name": "stdout",
     "output_type": "stream",
     "text": [
      "Hello\n"
     ]
    }
   ],
   "source": [
    "great_user()"
   ]
  },
  {
   "cell_type": "code",
   "execution_count": 17,
   "metadata": {},
   "outputs": [],
   "source": [
    "#passing information to a fun:\n",
    "\n",
    "def greet_user(username):\n",
    "    \"\"\"Display a simpel greeting to the user\"\"\"\n",
    "    print(f\"Welcome back again, {username.title()}\")\n",
    "    "
   ]
  },
  {
   "cell_type": "code",
   "execution_count": 18,
   "metadata": {},
   "outputs": [
    {
     "name": "stdout",
     "output_type": "stream",
     "text": [
      "Welcome back again, Hema\n"
     ]
    }
   ],
   "source": [
    "greet_user('hema')\n"
   ]
  },
  {
   "cell_type": "code",
   "execution_count": null,
   "metadata": {},
   "outputs": [],
   "source": [
    " "
   ]
  },
  {
   "cell_type": "code",
   "execution_count": 23,
   "metadata": {},
   "outputs": [],
   "source": [
    "def country(cname):\n",
    "    print(f\"I am from {cname.title()}\")"
   ]
  },
  {
   "cell_type": "code",
   "execution_count": 25,
   "metadata": {},
   "outputs": [
    {
     "name": "stdout",
     "output_type": "stream",
     "text": [
      "I am from India\n"
     ]
    }
   ],
   "source": [
    "country('india')"
   ]
  },
  {
   "cell_type": "code",
   "execution_count": 26,
   "metadata": {},
   "outputs": [
    {
     "name": "stdout",
     "output_type": "stream",
     "text": [
      "I am from Usa\n"
     ]
    }
   ],
   "source": [
    "country('USA')"
   ]
  },
  {
   "cell_type": "code",
   "execution_count": null,
   "metadata": {},
   "outputs": [],
   "source": []
  }
 ],
 "metadata": {
  "kernelspec": {
   "display_name": "Python 3",
   "language": "python",
   "name": "python3"
  },
  "language_info": {
   "codemirror_mode": {
    "name": "ipython",
    "version": 3
   },
   "file_extension": ".py",
   "mimetype": "text/x-python",
   "name": "python",
   "nbconvert_exporter": "python",
   "pygments_lexer": "ipython3",
   "version": "3.7.4"
  }
 },
 "nbformat": 4,
 "nbformat_minor": 2
}
