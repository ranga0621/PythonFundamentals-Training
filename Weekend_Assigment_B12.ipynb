{
 "cells": [
  {
   "cell_type": "code",
   "execution_count": null,
   "metadata": {},
   "outputs": [],
   "source": []
  },
  {
   "cell_type": "code",
   "execution_count": 6,
   "metadata": {},
   "outputs": [],
   "source": [
    "class Restaurant:\n",
    "    \n",
    "         def __init__(self, restaurant_name,cuisine_type):\n",
    "                \n",
    "                self.restaurant_name = restaurant_name\n",
    "                self.cuisine_type = cuisine_type\n",
    "                \n",
    "         def describe_restaurant(self):\n",
    "            print(f\"{self.restaurant_name.title()} serves delicious {self.cuisine_type.title()} \\n \")\n",
    "            \n",
    "            \n",
    "         def open_restaurant(self):\n",
    "            \n",
    "            print(f\"The {self.restaurant_name.title()} Restaurant is now open, Please come in!\")"
   ]
  },
  {
   "cell_type": "code",
   "execution_count": null,
   "metadata": {},
   "outputs": [],
   "source": []
  },
  {
   "cell_type": "code",
   "execution_count": 7,
   "metadata": {},
   "outputs": [],
   "source": [
    "restaurantobj = Restaurant('pradise','biryani')"
   ]
  },
  {
   "cell_type": "code",
   "execution_count": null,
   "metadata": {},
   "outputs": [],
   "source": []
  },
  {
   "cell_type": "code",
   "execution_count": 3,
   "metadata": {},
   "outputs": [
    {
     "name": "stdout",
     "output_type": "stream",
     "text": [
      "pradise\n"
     ]
    }
   ],
   "source": [
    "print(restaurantobj.restaurant_name)"
   ]
  },
  {
   "cell_type": "code",
   "execution_count": 4,
   "metadata": {},
   "outputs": [
    {
     "name": "stdout",
     "output_type": "stream",
     "text": [
      "biryani\n"
     ]
    }
   ],
   "source": [
    "print(restaurantobj.cuisine_type)"
   ]
  },
  {
   "cell_type": "code",
   "execution_count": null,
   "metadata": {},
   "outputs": [],
   "source": []
  },
  {
   "cell_type": "code",
   "execution_count": 8,
   "metadata": {},
   "outputs": [
    {
     "name": "stdout",
     "output_type": "stream",
     "text": [
      "Pradise serves delicious Biryani \n",
      " \n",
      "The Pradise Restaurant is now open, Please come in!\n"
     ]
    }
   ],
   "source": [
    "restaurantobj.describe_restaurant()\n",
    "restaurantobj.open_restaurant()"
   ]
  },
  {
   "cell_type": "code",
   "execution_count": null,
   "metadata": {},
   "outputs": [],
   "source": []
  },
  {
   "cell_type": "code",
   "execution_count": null,
   "metadata": {},
   "outputs": [],
   "source": []
  },
  {
   "cell_type": "code",
   "execution_count": 13,
   "metadata": {},
   "outputs": [],
   "source": [
    "class IceCreamStand(Restaurant):\n",
    "    def __init__(self,restaurant_name,cuisine_type):\n",
    "        super().__init__(restaurant_name, cuisine_type)\n",
    "        self.flavors = []\n",
    "        \n",
    "    def flavors_List(self):\n",
    "        print(f\"{self.restaurant_name.title()} serves following {self.cuisine_type.title()} flavors \\n\")\n",
    "        for flavor in self.flavors:\n",
    "            \n",
    "            print(flavor.title())\n",
    "        "
   ]
  },
  {
   "cell_type": "code",
   "execution_count": null,
   "metadata": {},
   "outputs": [],
   "source": []
  },
  {
   "cell_type": "code",
   "execution_count": 14,
   "metadata": {},
   "outputs": [],
   "source": [
    "IceCreamStandobj = IceCreamStand('baskin robbins','ice cream')"
   ]
  },
  {
   "cell_type": "code",
   "execution_count": null,
   "metadata": {},
   "outputs": [],
   "source": []
  },
  {
   "cell_type": "code",
   "execution_count": 15,
   "metadata": {},
   "outputs": [],
   "source": [
    "IceCreamStandobj.flavors = ['vanilla', 'chocolate', 'tooty fruity','butterscotch']"
   ]
  },
  {
   "cell_type": "code",
   "execution_count": null,
   "metadata": {},
   "outputs": [],
   "source": []
  },
  {
   "cell_type": "code",
   "execution_count": 16,
   "metadata": {},
   "outputs": [
    {
     "name": "stdout",
     "output_type": "stream",
     "text": [
      "Baskin Robbins serves following Ice Cream flavors \n",
      "\n",
      "Vanilla\n",
      "Chocolate\n",
      "Tooty Fruity\n",
      "Butterscotch\n"
     ]
    }
   ],
   "source": [
    "IceCreamStandobj.flavors_List()"
   ]
  },
  {
   "cell_type": "code",
   "execution_count": null,
   "metadata": {},
   "outputs": [],
   "source": []
  }
 ],
 "metadata": {
  "kernelspec": {
   "display_name": "Python 3",
   "language": "python",
   "name": "python3"
  },
  "language_info": {
   "codemirror_mode": {
    "name": "ipython",
    "version": 3
   },
   "file_extension": ".py",
   "mimetype": "text/x-python",
   "name": "python",
   "nbconvert_exporter": "python",
   "pygments_lexer": "ipython3",
   "version": "3.7.4"
  }
 },
 "nbformat": 4,
 "nbformat_minor": 2
}
