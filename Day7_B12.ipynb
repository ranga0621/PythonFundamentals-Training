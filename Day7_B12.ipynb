{
 "cells": [
  {
   "cell_type": "code",
   "execution_count": null,
   "metadata": {},
   "outputs": [],
   "source": [
    "# Accepting the user input:"
   ]
  },
  {
   "cell_type": "code",
   "execution_count": null,
   "metadata": {},
   "outputs": [],
   "source": [
    "username:\n",
    "email_id:\n",
    "contact_num:"
   ]
  },
  {
   "cell_type": "code",
   "execution_count": null,
   "metadata": {},
   "outputs": [],
   "source": [
    "example below:"
   ]
  },
  {
   "cell_type": "code",
   "execution_count": 1,
   "metadata": {},
   "outputs": [
    {
     "name": "stdout",
     "output_type": "stream",
     "text": [
      "tell me something and I will repeat it back to you!Hello World!\n",
      "Hello World!\n"
     ]
    }
   ],
   "source": [
    "message = input('tell me something and I will repeat it back to you!')\n",
    "\n",
    "print(message)"
   ]
  },
  {
   "cell_type": "code",
   "execution_count": null,
   "metadata": {},
   "outputs": [],
   "source": []
  },
  {
   "cell_type": "code",
   "execution_count": 5,
   "metadata": {},
   "outputs": [
    {
     "name": "stdout",
     "output_type": "stream",
     "text": [
      "Please enter your name: Sowmya\n",
      "\n",
      "Welcomeback, Sowmya!\n"
     ]
    }
   ],
   "source": [
    "#enhancement of the code:\n",
    "\n",
    "name = input('Please enter your name: ')\n",
    "print(f\"\\nWelcomeback, {name}!\")    # \\n --- it is going to the new line."
   ]
  },
  {
   "cell_type": "code",
   "execution_count": null,
   "metadata": {},
   "outputs": [],
   "source": [
    "#Understand the concept of if conditions:\n",
    "\n",
    "case study: Building a simple voting application:\n",
    "\n",
    "Ground rules: >=18  --- eligible to vote.\n",
    "\n",
    "failing this condition: not eligible to vote, try next year.\n"
   ]
  },
  {
   "cell_type": "code",
   "execution_count": 8,
   "metadata": {},
   "outputs": [
    {
     "name": "stdout",
     "output_type": "stream",
     "text": [
      "How old are you?25\n"
     ]
    },
    {
     "ename": "TypeError",
     "evalue": "'>=' not supported between instances of 'str' and 'int'",
     "output_type": "error",
     "traceback": [
      "\u001b[1;31m---------------------------------------------------------------------------\u001b[0m",
      "\u001b[1;31mTypeError\u001b[0m                                 Traceback (most recent call last)",
      "\u001b[1;32m<ipython-input-8-0c68ca49882e>\u001b[0m in \u001b[0;36m<module>\u001b[1;34m\u001b[0m\n\u001b[0;32m      1\u001b[0m \u001b[0mage\u001b[0m \u001b[1;33m=\u001b[0m \u001b[0minput\u001b[0m\u001b[1;33m(\u001b[0m\u001b[1;34m'How old are you?'\u001b[0m\u001b[1;33m)\u001b[0m\u001b[1;33m\u001b[0m\u001b[1;33m\u001b[0m\u001b[0m\n\u001b[0;32m      2\u001b[0m \u001b[1;33m\u001b[0m\u001b[0m\n\u001b[1;32m----> 3\u001b[1;33m \u001b[1;32mif\u001b[0m \u001b[0mage\u001b[0m \u001b[1;33m>=\u001b[0m\u001b[1;36m18\u001b[0m\u001b[1;33m:\u001b[0m\u001b[1;33m\u001b[0m\u001b[1;33m\u001b[0m\u001b[0m\n\u001b[0m\u001b[0;32m      4\u001b[0m     \u001b[0mprint\u001b[0m\u001b[1;33m(\u001b[0m\u001b[1;34m'You are eligible to cast your vote'\u001b[0m\u001b[1;33m)\u001b[0m\u001b[1;33m\u001b[0m\u001b[1;33m\u001b[0m\u001b[0m\n\u001b[0;32m      5\u001b[0m \u001b[1;32melse\u001b[0m\u001b[1;33m:\u001b[0m\u001b[1;33m\u001b[0m\u001b[1;33m\u001b[0m\u001b[0m\n",
      "\u001b[1;31mTypeError\u001b[0m: '>=' not supported between instances of 'str' and 'int'"
     ]
    }
   ],
   "source": [
    "age = input('How old are you?')\n",
    "\n",
    "if age >=18:\n",
    "    print('You are eligible to cast your vote')\n",
    "else:\n",
    "    print('You are not eligible to vote, try next year!')"
   ]
  },
  {
   "cell_type": "code",
   "execution_count": null,
   "metadata": {},
   "outputs": [],
   "source": [
    "str --> string\n",
    "int --> integer\n",
    "\n",
    "input will be accepting by default data type as string!!\n",
    "\n",
    "## type casting fo data----!\n",
    "Converting one datatype to another\n"
   ]
  },
  {
   "cell_type": "code",
   "execution_count": 14,
   "metadata": {},
   "outputs": [
    {
     "name": "stdout",
     "output_type": "stream",
     "text": [
      "How old are you? 24\n",
      "\n",
      "You are eligible to cast your vote\n"
     ]
    }
   ],
   "source": [
    "age = input('How old are you? ')\n",
    "\n",
    "age = int(age) # string --- int\n",
    "\n",
    "if age >=18:\n",
    "    print('\\nYou are eligible to cast your vote')\n",
    "else:\n",
    "    print('\\nYou are not eligible to vote, try again next year!')"
   ]
  },
  {
   "cell_type": "code",
   "execution_count": null,
   "metadata": {},
   "outputs": [],
   "source": [
    "if conditions: these are used to validating the conditions,\n",
    "    if x is true...\n",
    "    print----\n",
    "    else:\n",
    "        do somethingage = input('How old are you? ')\n"
   ]
  },
  {
   "cell_type": "code",
   "execution_count": 15,
   "metadata": {},
   "outputs": [
    {
     "name": "stdout",
     "output_type": "stream",
     "text": [
      "How old are you? 17\n",
      "\n",
      "You are not eligible to cast vote, try again next year!\n"
     ]
    }
   ],
   "source": [
    "age = int(input('How old are you? '))\n",
    "\n",
    "if age >=18:\n",
    "    print('\\nYou are eligible to cast your vote')\n",
    "else:\n",
    "    print('\\nYou are not eligible to cast vote, try again next year!')"
   ]
  },
  {
   "cell_type": "code",
   "execution_count": null,
   "metadata": {},
   "outputs": [],
   "source": []
  },
  {
   "cell_type": "code",
   "execution_count": 20,
   "metadata": {},
   "outputs": [
    {
     "name": "stdout",
     "output_type": "stream",
     "text": [
      "How old are you? 17\n",
      "\n",
      "You are not eligible to cast vote, try after 1 year!\n"
     ]
    }
   ],
   "source": [
    "age = int(input('How old are you? '))\n",
    "\n",
    "if age >=18:\n",
    "    print('\\nYou are eligible to cast your vote')\n",
    "else:\n",
    "    wait_period = 18 - age\n",
    "    if wait_period==1:\n",
    "        print(f'\\nYou are not eligible to cast vote, try after {wait_period} year!')\n",
    "    else:\n",
    "        print(f'\\nYou are not eligible to cast vote, try after {wait_period} years!')"
   ]
  },
  {
   "cell_type": "code",
   "execution_count": null,
   "metadata": {},
   "outputs": [],
   "source": []
  },
  {
   "cell_type": "code",
   "execution_count": 22,
   "metadata": {},
   "outputs": [
    {
     "name": "stdout",
     "output_type": "stream",
     "text": [
      "Enter  your Total Purchase: 10000\n",
      "\n",
      "Your Discount is: 1500.0\n",
      "\n",
      "Your Net Payment Today is:  8500.0\n"
     ]
    }
   ],
   "source": [
    "##Req: Calculate discount for the total purchase\n",
    "\n",
    "TotalBill = int(input('Enter  your Total Purchase: '))\n",
    "\n",
    "if TotalBill<1000:\n",
    "    \n",
    "    discount = TotalBill*0.05\n",
    "    print(f\"\\nYour Discount is: {discount}\")\n",
    "\n",
    "elif TotalBill>1000 and TotalBill<5000:\n",
    "    \n",
    "    discount = TotalBill*0.1\n",
    "    print(f\"\\nYour Discount is: {discount}\")\n",
    "\n",
    "else:\n",
    "    discount = TotalBill*0.15\n",
    "    print(f\"\\nYour Discount is: {discount}\")\n",
    "    \n",
    "print(\"\\nYour Net Payment Today is: \", TotalBill - discount)\n",
    "\n"
   ]
  },
  {
   "cell_type": "code",
   "execution_count": null,
   "metadata": {},
   "outputs": [],
   "source": []
  }
 ],
 "metadata": {
  "kernelspec": {
   "display_name": "Python 3",
   "language": "python",
   "name": "python3"
  },
  "language_info": {
   "codemirror_mode": {
    "name": "ipython",
    "version": 3
   },
   "file_extension": ".py",
   "mimetype": "text/x-python",
   "name": "python",
   "nbconvert_exporter": "python",
   "pygments_lexer": "ipython3",
   "version": "3.7.4"
  }
 },
 "nbformat": 4,
 "nbformat_minor": 2
}
