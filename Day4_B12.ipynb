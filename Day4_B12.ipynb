{
 "cells": [
  {
   "cell_type": "code",
   "execution_count": null,
   "metadata": {},
   "outputs": [],
   "source": [
    "#Day4#B12"
   ]
  },
  {
   "cell_type": "code",
   "execution_count": null,
   "metadata": {},
   "outputs": [],
   "source": [
    "#Adding, changing and removing elements from a list"
   ]
  },
  {
   "cell_type": "code",
   "execution_count": 4,
   "metadata": {},
   "outputs": [
    {
     "name": "stdout",
     "output_type": "stream",
     "text": [
      "['divya', 'srinivas', 'ranga', 'akbar', 'vinod']\n"
     ]
    }
   ],
   "source": [
    "my_students = ['divya', 'srinivas', 'ranga', 'akbar', 'vinod']\n",
    "print(my_students)"
   ]
  },
  {
   "cell_type": "code",
   "execution_count": 5,
   "metadata": {},
   "outputs": [
    {
     "name": "stdout",
     "output_type": "stream",
     "text": [
      "['divya', 'srinivas', 'ranga', 'akbar', 'vinod', 'geetha']\n"
     ]
    }
   ],
   "source": [
    "#how to add elements to list\n",
    "\n",
    "my_students.append('geetha') ## .append adds the element at the end of the list.\n",
    "print(my_students)"
   ]
  },
  {
   "cell_type": "code",
   "execution_count": 7,
   "metadata": {},
   "outputs": [
    {
     "name": "stdout",
     "output_type": "stream",
     "text": [
      "['divya', 'harsha', 'ranga', 'sireesha', 'akbar', 'vinod', 'geetha']\n"
     ]
    }
   ],
   "source": [
    "#req: add a new student at index1 --->\n",
    "\n",
    "my_students[1] = 'harsha'\n",
    "\n",
    "print(my_students)"
   ]
  },
  {
   "cell_type": "code",
   "execution_count": 6,
   "metadata": {},
   "outputs": [
    {
     "name": "stdout",
     "output_type": "stream",
     "text": [
      "['divya', 'srinivas', 'ranga', 'sireesha', 'akbar', 'vinod', 'geetha']\n"
     ]
    }
   ],
   "source": [
    "# inserting the element into a list at index 3\n",
    "\n",
    "my_students.insert(3, 'sireesha')\n",
    "\n",
    "print(my_students) # 7 elements\n"
   ]
  },
  {
   "cell_type": "code",
   "execution_count": 9,
   "metadata": {},
   "outputs": [
    {
     "name": "stdout",
     "output_type": "stream",
     "text": [
      "['divya', 'harsha', 'ranga', 'sireesha', 'akbar', 'vinod', 'geetha']\n"
     ]
    }
   ],
   "source": [
    "# How to remove elements from the list:\n",
    "print(my_students)"
   ]
  },
  {
   "cell_type": "code",
   "execution_count": 31,
   "metadata": {},
   "outputs": [
    {
     "name": "stdout",
     "output_type": "stream",
     "text": [
      "['divya', 'ranga', 'sireesha']\n"
     ]
    }
   ],
   "source": [
    "#Req: Remove divya from the list\n",
    "\n",
    "del my_students[3]   \n",
    "print(my_students)"
   ]
  },
  {
   "cell_type": "code",
   "execution_count": 16,
   "metadata": {},
   "outputs": [
    {
     "name": "stdout",
     "output_type": "stream",
     "text": [
      "['divya', 'harsha', 'ranga', 'sireesha', 'akbar', 'vinod']\n"
     ]
    }
   ],
   "source": [
    "# Removing the elements by using pop() method\n",
    "#it will be mainting a carbon copy of the deleted items\n",
    "\n",
    "my_students.pop()\n",
    "print(my_students)"
   ]
  },
  {
   "cell_type": "code",
   "execution_count": 17,
   "metadata": {},
   "outputs": [
    {
     "name": "stdout",
     "output_type": "stream",
     "text": [
      "['divya', 'ranga', 'sireesha', 'akbar', 'vinod']\n"
     ]
    }
   ],
   "source": [
    "my_students.pop(1)\n",
    "print(my_students)"
   ]
  },
  {
   "cell_type": "code",
   "execution_count": null,
   "metadata": {},
   "outputs": [],
   "source": []
  },
  {
   "cell_type": "code",
   "execution_count": 18,
   "metadata": {},
   "outputs": [
    {
     "name": "stdout",
     "output_type": "stream",
     "text": [
      "['liam', 'rui', 'bill', 'mike', 'ranga', 'vivek', 'zakir']\n"
     ]
    }
   ],
   "source": [
    "## Organising a list\n",
    "\n",
    "students = ['liam', 'rui', 'bill', 'mike', 'ranga', 'vivek', 'zakir']\n",
    "\n",
    "print(students)"
   ]
  },
  {
   "cell_type": "code",
   "execution_count": 19,
   "metadata": {},
   "outputs": [
    {
     "name": "stdout",
     "output_type": "stream",
     "text": [
      "['bill', 'liam', 'mike', 'ranga', 'rui', 'vivek', 'zakir']\n"
     ]
    }
   ],
   "source": [
    "# Req: organizing the list in alphabetic order.\n",
    "\n",
    "students.sort()  ## sorted A-Z, this sort is permanent sort, we can't go back to original order\n",
    "\n",
    "print(students)"
   ]
  },
  {
   "cell_type": "code",
   "execution_count": 21,
   "metadata": {},
   "outputs": [
    {
     "name": "stdout",
     "output_type": "stream",
     "text": [
      "['bill', 'liam', 'mike', 'ranga', 'rui', 'vivek', 'zakir']\n"
     ]
    }
   ],
   "source": [
    "print(students)"
   ]
  },
  {
   "cell_type": "code",
   "execution_count": 22,
   "metadata": {},
   "outputs": [
    {
     "name": "stdout",
     "output_type": "stream",
     "text": [
      "['Dale', 'Greg', 'Rob', 'Amit', 'Ken', 'vidya', 'hema']\n"
     ]
    }
   ],
   "source": [
    "# Req: Temporary sorting we need and list has to go back to orginial order\n",
    "\n",
    "students2 = ['Dale', 'Greg', 'Rob', 'Amit', 'Ken', 'vidya', 'hema']\n",
    "\n",
    "print(students2)"
   ]
  },
  {
   "cell_type": "code",
   "execution_count": 23,
   "metadata": {},
   "outputs": [
    {
     "name": "stdout",
     "output_type": "stream",
     "text": [
      "here is the sorted list:\n",
      "['Amit', 'Dale', 'Greg', 'Ken', 'Rob', 'hema', 'vidya']\n"
     ]
    }
   ],
   "source": [
    "print('here is the sorted list:')\n",
    "\n",
    "print(sorted(students2))  ## sorted method is for temporary sort"
   ]
  },
  {
   "cell_type": "code",
   "execution_count": 24,
   "metadata": {},
   "outputs": [
    {
     "name": "stdout",
     "output_type": "stream",
     "text": [
      "['Dale', 'Greg', 'Rob', 'Amit', 'Ken', 'vidya', 'hema']\n"
     ]
    }
   ],
   "source": [
    "print(students2)"
   ]
  },
  {
   "cell_type": "code",
   "execution_count": 26,
   "metadata": {},
   "outputs": [
    {
     "name": "stdout",
     "output_type": "stream",
     "text": [
      "['Dale', 'Greg', 'Amit', 'Ken', 'vidya', 'hema']\n"
     ]
    }
   ],
   "source": [
    "del students2[2]\n",
    "print(students2)"
   ]
  },
  {
   "cell_type": "code",
   "execution_count": 32,
   "metadata": {},
   "outputs": [
    {
     "data": {
      "text/plain": [
       "'hema'"
      ]
     },
     "execution_count": 32,
     "metadata": {},
     "output_type": "execute_result"
    }
   ],
   "source": [
    "students2.pop()"
   ]
  },
  {
   "cell_type": "code",
   "execution_count": 33,
   "metadata": {},
   "outputs": [
    {
     "name": "stdout",
     "output_type": "stream",
     "text": [
      "['Dale', 'Greg', 'Amit', 'Ken', 'vidya']\n"
     ]
    }
   ],
   "source": [
    "print(students2)"
   ]
  },
  {
   "cell_type": "code",
   "execution_count": 36,
   "metadata": {},
   "outputs": [
    {
     "name": "stdout",
     "output_type": "stream",
     "text": [
      "['Dale', 'Greg', 'Amit', 'Ken', 'vidya', 'hema']\n"
     ]
    }
   ],
   "source": [
    "studnts2.append('hema')\n",
    "\n",
    "print(students2)"
   ]
  },
  {
   "cell_type": "code",
   "execution_count": 42,
   "metadata": {},
   "outputs": [
    {
     "name": "stdout",
     "output_type": "stream",
     "text": [
      "['Ranga', 'Ranga', 'Ranga', 'Ranga', 'Ranga', 'Dale', 'Greg', 'Amit', 'Ken', 'vidya', 'hema']\n"
     ]
    }
   ],
   "source": [
    "students2.insert(0, 'Ranga') ## executed multiple times \n",
    "\n",
    "print(students2)"
   ]
  },
  {
   "cell_type": "code",
   "execution_count": 48,
   "metadata": {},
   "outputs": [
    {
     "data": {
      "text/plain": [
       "'Ranga'"
      ]
     },
     "execution_count": 48,
     "metadata": {},
     "output_type": "execute_result"
    }
   ],
   "source": [
    "students2.pop(0)"
   ]
  },
  {
   "cell_type": "code",
   "execution_count": 49,
   "metadata": {},
   "outputs": [
    {
     "name": "stdout",
     "output_type": "stream",
     "text": [
      "['Ranga', 'Dale', 'Greg', 'Amit', 'Ken', 'vidya', 'hema']\n"
     ]
    }
   ],
   "source": [
    "print(students2)"
   ]
  },
  {
   "cell_type": "code",
   "execution_count": 50,
   "metadata": {},
   "outputs": [
    {
     "name": "stdout",
     "output_type": "stream",
     "text": [
      "['Amit', 'Dale', 'Greg', 'Ken', 'Ranga', 'hema', 'vidya']\n"
     ]
    }
   ],
   "source": [
    "print(sorted(students2))"
   ]
  },
  {
   "cell_type": "code",
   "execution_count": 51,
   "metadata": {},
   "outputs": [
    {
     "name": "stdout",
     "output_type": "stream",
     "text": [
      "['Ranga', 'Dale', 'Greg', 'Amit', 'Ken', 'vidya', 'hema']\n"
     ]
    }
   ],
   "source": [
    "print(students2)"
   ]
  },
  {
   "cell_type": "code",
   "execution_count": 52,
   "metadata": {},
   "outputs": [
    {
     "name": "stdout",
     "output_type": "stream",
     "text": [
      "['Ranga', 'Dale', 'Greg', 'Amit', 'vidya', 'hema']\n"
     ]
    }
   ],
   "source": [
    "del students2[4]\n",
    "print(students2)"
   ]
  },
  {
   "cell_type": "code",
   "execution_count": 53,
   "metadata": {},
   "outputs": [
    {
     "name": "stdout",
     "output_type": "stream",
     "text": [
      "sum of 5 and 10 is: 15\n"
     ]
    }
   ],
   "source": [
    "a = 5\n",
    "b = 10\n",
    "c = a + b\n",
    "\n",
    "print(f'sum of {a} and {b} is: {c}')"
   ]
  },
  {
   "cell_type": "code",
   "execution_count": 54,
   "metadata": {},
   "outputs": [
    {
     "name": "stdout",
     "output_type": "stream",
     "text": [
      "5 power 5 is: 3125\n"
     ]
    }
   ],
   "source": [
    "d = a**a\n",
    "print(f'{a} power {a} is: {d}')"
   ]
  },
  {
   "cell_type": "code",
   "execution_count": 55,
   "metadata": {},
   "outputs": [
    {
     "name": "stdout",
     "output_type": "stream",
     "text": [
      "5 power 5 is: 3125\n"
     ]
    }
   ],
   "source": [
    "print(a, 'power', a, 'is:', d)"
   ]
  },
  {
   "cell_type": "code",
   "execution_count": 58,
   "metadata": {},
   "outputs": [
    {
     "name": "stdout",
     "output_type": "stream",
     "text": [
      "[1, 2, 5, 6, 7, 8, 10, 12, 12, 15]\n"
     ]
    }
   ],
   "source": [
    "list1 = [10,12,8,6,12,15,7,2,1,5]\n",
    "\n",
    "print(sorted(list1))"
   ]
  },
  {
   "cell_type": "code",
   "execution_count": 59,
   "metadata": {},
   "outputs": [
    {
     "name": "stdout",
     "output_type": "stream",
     "text": [
      "[10, 12, 8, 6, 12, 15, 7, 2, 1, 5]\n"
     ]
    }
   ],
   "source": [
    "print(list1)"
   ]
  },
  {
   "cell_type": "code",
   "execution_count": 60,
   "metadata": {},
   "outputs": [
    {
     "name": "stdout",
     "output_type": "stream",
     "text": [
      "[1, 10, 12, 8, 6, 12, 15, 7, 2, 1, 5]\n"
     ]
    }
   ],
   "source": [
    "list1.insert(0,1)\n",
    "print(list1)"
   ]
  },
  {
   "cell_type": "code",
   "execution_count": 62,
   "metadata": {},
   "outputs": [
    {
     "name": "stdout",
     "output_type": "stream",
     "text": [
      "[1, 10, 12, 8, 6, 12, 15, 7, 2, 1, 5, 2, 2]\n"
     ]
    }
   ],
   "source": [
    "list1.append(2)\n",
    "print(list1)"
   ]
  },
  {
   "cell_type": "code",
   "execution_count": 64,
   "metadata": {},
   "outputs": [
    {
     "name": "stdout",
     "output_type": "stream",
     "text": [
      "[1, 10, 12, 8, 6, 12, 15, 7, 2, 1, 5, 2]\n"
     ]
    }
   ],
   "source": [
    "del list1[12]\n",
    "print(list1)"
   ]
  },
  {
   "cell_type": "code",
   "execution_count": null,
   "metadata": {},
   "outputs": [],
   "source": []
  }
 ],
 "metadata": {
  "kernelspec": {
   "display_name": "Python 3",
   "language": "python",
   "name": "python3"
  },
  "language_info": {
   "codemirror_mode": {
    "name": "ipython",
    "version": 3
   },
   "file_extension": ".py",
   "mimetype": "text/x-python",
   "name": "python",
   "nbconvert_exporter": "python",
   "pygments_lexer": "ipython3",
   "version": "3.7.4"
  }
 },
 "nbformat": 4,
 "nbformat_minor": 2
}
