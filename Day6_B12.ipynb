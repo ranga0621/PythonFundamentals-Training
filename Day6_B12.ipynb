{
 "cells": [
  {
   "cell_type": "code",
   "execution_count": null,
   "metadata": {},
   "outputs": [],
   "source": [
    "Introduction to for loops:"
   ]
  },
  {
   "cell_type": "code",
   "execution_count": 1,
   "metadata": {},
   "outputs": [
    {
     "name": "stdout",
     "output_type": "stream",
     "text": [
      "['bhavani', 'zakir', 'ranga', 'divya', 'srinivas', 'suresh', 'mohan']\n"
     ]
    }
   ],
   "source": [
    "my_students = ['bhavani', 'zakir','ranga','divya','srinivas','suresh','mohan']\n",
    "\n",
    "print(my_students)"
   ]
  },
  {
   "cell_type": "code",
   "execution_count": 2,
   "metadata": {},
   "outputs": [
    {
     "data": {
      "text/plain": [
       "list"
      ]
     },
     "execution_count": 2,
     "metadata": {},
     "output_type": "execute_result"
    }
   ],
   "source": [
    "type(my_students)"
   ]
  },
  {
   "cell_type": "code",
   "execution_count": null,
   "metadata": {},
   "outputs": [],
   "source": [
    "# writing a for loop:\n",
    "\n",
    "for ---> temp var and then main variable  --->take care of the indentation:\n",
    "    print(tem var)\n",
    "    iteration -->"
   ]
  },
  {
   "cell_type": "code",
   "execution_count": 3,
   "metadata": {},
   "outputs": [
    {
     "name": "stdout",
     "output_type": "stream",
     "text": [
      "bhavani\n",
      "zakir\n",
      "ranga\n",
      "divya\n",
      "srinivas\n",
      "suresh\n",
      "mohan\n"
     ]
    }
   ],
   "source": [
    "for student in my_students:\n",
    "    print(student)"
   ]
  },
  {
   "cell_type": "code",
   "execution_count": 9,
   "metadata": {},
   "outputs": [],
   "source": [
    "students2 = ['x','y','z']"
   ]
  },
  {
   "cell_type": "code",
   "execution_count": 10,
   "metadata": {},
   "outputs": [
    {
     "name": "stdout",
     "output_type": "stream",
     "text": [
      "x\n",
      "y\n",
      "z\n"
     ]
    }
   ],
   "source": [
    "for x in students2:\n",
    "    print(x)"
   ]
  },
  {
   "cell_type": "code",
   "execution_count": null,
   "metadata": {},
   "outputs": [],
   "source": []
  },
  {
   "cell_type": "code",
   "execution_count": null,
   "metadata": {},
   "outputs": [],
   "source": [
    "## enhancment of the foor loop:\n",
    "\n",
    "#automating the print statements.\n"
   ]
  },
  {
   "cell_type": "code",
   "execution_count": 7,
   "metadata": {},
   "outputs": [
    {
     "name": "stdout",
     "output_type": "stream",
     "text": [
      "['bhavani', 'zakir', 'ranga', 'divya', 'srinivas', 'suresh', 'mohan']\n"
     ]
    }
   ],
   "source": [
    "my_students = ['bhavani', 'zakir','ranga','divya','srinivas','suresh','mohan']\n",
    "\n",
    "print(my_students)"
   ]
  },
  {
   "cell_type": "code",
   "execution_count": null,
   "metadata": {},
   "outputs": [],
   "source": [
    "#Req: automate the print statement for everyone!"
   ]
  },
  {
   "cell_type": "code",
   "execution_count": 11,
   "metadata": {},
   "outputs": [
    {
     "name": "stdout",
     "output_type": "stream",
     "text": [
      "Bhavani, good job for completing the practice regularly!!\n",
      "Zakir, good job for completing the practice regularly!!\n",
      "Ranga, good job for completing the practice regularly!!\n",
      "Divya, good job for completing the practice regularly!!\n",
      "Srinivas, good job for completing the practice regularly!!\n",
      "Suresh, good job for completing the practice regularly!!\n",
      "Mohan, good job for completing the practice regularly!!\n"
     ]
    }
   ],
   "source": [
    "for a in my_students:\n",
    "    print(f\"{a.title()}, good job for completing the practice regularly!!\")"
   ]
  },
  {
   "cell_type": "code",
   "execution_count": null,
   "metadata": {},
   "outputs": [],
   "source": []
  },
  {
   "cell_type": "code",
   "execution_count": 12,
   "metadata": {},
   "outputs": [
    {
     "name": "stdout",
     "output_type": "stream",
     "text": [
      "['harsha', 'krishna', 'sireesha', 'vijaya', 'sahil', 'poojitha']\n"
     ]
    }
   ],
   "source": [
    "new_students = [\"harsha\",'krishna','sireesha','vijaya','sahil','poojitha']\n",
    "\n",
    "print(new_students)"
   ]
  },
  {
   "cell_type": "code",
   "execution_count": 13,
   "metadata": {},
   "outputs": [
    {
     "name": "stdout",
     "output_type": "stream",
     "text": [
      "Thanks for joining the sesssion on time,Harsha\n",
      "Thanks for joining the sesssion on time,Krishna\n",
      "Thanks for joining the sesssion on time,Sireesha\n",
      "Thanks for joining the sesssion on time,Vijaya\n",
      "Thanks for joining the sesssion on time,Sahil\n",
      "Thanks for joining the sesssion on time,Poojitha\n"
     ]
    }
   ],
   "source": [
    "for student in new_students:\n",
    "    print(f\"Thanks for joining the sesssion on time,{student.title()}\")"
   ]
  },
  {
   "cell_type": "code",
   "execution_count": 15,
   "metadata": {},
   "outputs": [
    {
     "name": "stdout",
     "output_type": "stream",
     "text": [
      "Thanks for joining the sesssion on time,Harsha\n",
      "Thanks for joining the sesssion on time,Krishna\n",
      "Thanks for joining the sesssion on time,Sireesha\n",
      "Thanks for joining the sesssion on time,Vijaya\n",
      "Thanks for joining the sesssion on time,Sahil\n",
      "Thanks for joining the sesssion on time,Poojitha\n",
      "\n",
      "Thanks everyone for showing intrest in learning python\n"
     ]
    }
   ],
   "source": [
    "#further enhancements of the code:\n",
    "\n",
    "for student in new_students:\n",
    "    print(f\"Thanks for joining the sesssion on time,{student.title()}\")\n",
    "print('\\nThanks everyone for showing intrest in learning python')"
   ]
  },
  {
   "cell_type": "code",
   "execution_count": null,
   "metadata": {},
   "outputs": [],
   "source": []
  },
  {
   "cell_type": "code",
   "execution_count": 16,
   "metadata": {},
   "outputs": [
    {
     "name": "stdout",
     "output_type": "stream",
     "text": [
      "1\n",
      "2\n",
      "3\n",
      "4\n",
      "5\n",
      "6\n",
      "7\n",
      "8\n",
      "9\n"
     ]
    }
   ],
   "source": [
    "#making a numerical list:\n",
    "\n",
    "#last value in the range is always exclusive\n",
    "\n",
    "for value in range(1,10):\n",
    "    print(value)\n"
   ]
  },
  {
   "cell_type": "code",
   "execution_count": 18,
   "metadata": {},
   "outputs": [
    {
     "name": "stdout",
     "output_type": "stream",
     "text": [
      "[1, 2, 3, 4, 5, 6, 7, 8, 9, 10, 11, 12, 13, 14, 15, 16, 17, 18, 19, 20, 21, 22, 23, 24, 25, 26, 27, 28, 29, 30]\n"
     ]
    }
   ],
   "source": [
    "#how to use the range to make a list of numbers\n",
    "\n",
    "numbers = list(range(1,31))\n",
    "\n",
    "print(numbers)"
   ]
  },
  {
   "cell_type": "code",
   "execution_count": null,
   "metadata": {},
   "outputs": [],
   "source": [
    "# range is also having step count validation:"
   ]
  },
  {
   "cell_type": "code",
   "execution_count": 20,
   "metadata": {},
   "outputs": [
    {
     "name": "stdout",
     "output_type": "stream",
     "text": [
      "[2, 4, 6, 8, 10, 12, 14, 16, 18, 20, 22, 24, 26, 28, 30, 32, 34, 36, 38, 40, 42, 44, 46, 48, 50]\n"
     ]
    }
   ],
   "source": [
    "#req: want to print only even numbers from 1, 50 by using the range:\n",
    "\n",
    "even_num = list(range(2,51,2))\n",
    "\n",
    "print(even_num)"
   ]
  },
  {
   "cell_type": "code",
   "execution_count": 32,
   "metadata": {},
   "outputs": [
    {
     "name": "stdout",
     "output_type": "stream",
     "text": [
      "1 3 5 7 9 11 13 15 17 19 21 23 25 27 29 31 33 35 37 39 41 43 45 47 49 "
     ]
    }
   ],
   "source": [
    "#req: want to print only  odd numbers from 1, 50:\n",
    "\n",
    "numbers = list(range(1,51))\n",
    "\n",
    "for num in numbers:\n",
    "    if num % 2 != 0:\n",
    "        print(num, end = \" \")"
   ]
  },
  {
   "cell_type": "code",
   "execution_count": 34,
   "metadata": {},
   "outputs": [
    {
     "name": "stdout",
     "output_type": "stream",
     "text": [
      "2 4 6 8 10 12 14 16 18 20 22 24 26 28 30 32 34 36 38 40 42 44 46 48 50 "
     ]
    }
   ],
   "source": [
    "#req: want to print only even numbers from 1, 50:\n",
    "\n",
    "numbers = list(range(1,51))\n",
    "\n",
    "for num in numbers:\n",
    "    if num % 2 == 0:\n",
    "        print(num, end = \" \")"
   ]
  },
  {
   "cell_type": "code",
   "execution_count": 35,
   "metadata": {},
   "outputs": [
    {
     "name": "stdout",
     "output_type": "stream",
     "text": [
      "[1, 3, 5, 7, 9, 11, 13, 15, 17, 19, 21, 23, 25, 27, 29, 31, 33, 35, 37, 39, 41, 43, 45, 47, 49]\n"
     ]
    }
   ],
   "source": [
    "#req: want to print only odd numbers from 1, 50 by using the range:\n",
    "\n",
    "odd_num = list(range(1,51,2))\n",
    "\n",
    "print(odd_num)"
   ]
  },
  {
   "cell_type": "code",
   "execution_count": 40,
   "metadata": {},
   "outputs": [
    {
     "name": "stdout",
     "output_type": "stream",
     "text": [
      "please Enter any Maximum Number12\n",
      "2 4 6 8 10 12 "
     ]
    }
   ],
   "source": [
    "#req: Read number from keyboard and print all even numbers\n",
    "\n",
    "max_num = int(input(\"please Enter any Maximum Number\"))\n",
    "\n",
    "for number in range(2,max_num + 1,2):\n",
    "    print(number, end = ' ')"
   ]
  },
  {
   "cell_type": "markdown",
   "metadata": {},
   "source": [
    "\n"
   ]
  }
 ],
 "metadata": {
  "kernelspec": {
   "display_name": "Python 3",
   "language": "python",
   "name": "python3"
  },
  "language_info": {
   "codemirror_mode": {
    "name": "ipython",
    "version": 3
   },
   "file_extension": ".py",
   "mimetype": "text/x-python",
   "name": "python",
   "nbconvert_exporter": "python",
   "pygments_lexer": "ipython3",
   "version": "3.7.4"
  }
 },
 "nbformat": 4,
 "nbformat_minor": 2
}
